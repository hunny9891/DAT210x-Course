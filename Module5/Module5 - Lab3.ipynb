{
 "cells": [
  {
   "cell_type": "markdown",
   "metadata": {},
   "source": [
    "# DAT210x - Programming with Python for DS"
   ]
  },
  {
   "cell_type": "markdown",
   "metadata": {},
   "source": [
    "## Module5- Lab3"
   ]
  },
  {
   "cell_type": "code",
   "execution_count": 45,
   "metadata": {
    "collapsed": true
   },
   "outputs": [],
   "source": [
    "import pandas as pd\n",
    "from datetime import timedelta\n",
    "import matplotlib.pyplot as plt\n",
    "import matplotlib\n",
    "from sklearn.cluster import KMeans\n",
    "\n",
    "matplotlib.style.use('ggplot') # Look Pretty"
   ]
  },
  {
   "cell_type": "markdown",
   "metadata": {},
   "source": [
    "A convenience function for you to use:"
   ]
  },
  {
   "cell_type": "code",
   "execution_count": 46,
   "metadata": {
    "collapsed": true
   },
   "outputs": [],
   "source": [
    "def clusterInfo(model):\n",
    "    print(\"Cluster Analysis Inertia: \", model.inertia_)\n",
    "    print('------------------------------------------')\n",
    "    \n",
    "    for i in range(len(model.cluster_centers_)):\n",
    "        print(\"\\n  Cluster \", i)\n",
    "        print(\"    Centroid \", model.cluster_centers_[i])\n",
    "        print(\"    #Samples \", (model.labels_==i).sum()) # NumPy Power"
   ]
  },
  {
   "cell_type": "code",
   "execution_count": 47,
   "metadata": {
    "collapsed": true
   },
   "outputs": [],
   "source": [
    "# Find the cluster with the least # attached nodes\n",
    "def clusterWithFewestSamples(model):\n",
    "    # Ensure there's at least on cluster...\n",
    "    minSamples = len(model.labels_)\n",
    "    minCluster = 0\n",
    "    \n",
    "    for i in range(len(model.cluster_centers_)):\n",
    "        if minSamples > (model.labels_==i).sum():\n",
    "            minCluster = i\n",
    "            minSamples = (model.labels_==i).sum()\n",
    "\n",
    "    print(\"\\n  Cluster With Fewest Samples: \", minCluster)\n",
    "    return (model.labels_==minCluster)"
   ]
  },
  {
   "cell_type": "markdown",
   "metadata": {
    "collapsed": true
   },
   "source": [
    "### CDRs"
   ]
  },
  {
   "cell_type": "markdown",
   "metadata": {
    "collapsed": true
   },
   "source": [
    "A [call detail record](https://en.wikipedia.org/wiki/Call_detail_record) (CDR) is a data record produced by a telephone exchange or other telecommunications equipment that documents the details of a telephone call or other telecommunications transaction (e.g., text message) that passes through that facility or device.\n",
    "\n",
    "The record contains various attributes of the call, such as time, duration, completion status, source number, and destination number. It is the automated equivalent of the paper toll tickets that were written and timed by operators for long-distance calls in a manual telephone exchange.\n",
    "\n",
    "The dataset we've curated for you contains call records for 10 people, tracked over the course of 3 years. Your job in this assignment is to find out where each of these people likely live and where they work at!\n",
    "\n",
    "Start by loading up the dataset and taking a peek at its `head` and `dtypes`. You can convert date-strings to real date-time objects using `pd.to_datetime`, and the times using `pd.to_timedelta`:"
   ]
  },
  {
   "cell_type": "code",
   "execution_count": 48,
   "metadata": {},
   "outputs": [
    {
     "name": "stdout",
     "output_type": "stream",
     "text": [
      "<bound method NDFrame.head of                In         Out Direction    CallDate         CallTime  DOW  \\\n",
      "0      4638472273  2666307251  Incoming  2010-12-25  07:16:24.736813  Sat   \n",
      "1      4638472273  1755442610  Incoming  2010-12-25  21:18:30.053710  Sat   \n",
      "2      4638472273  5481755331  Incoming  2010-12-25  14:52:42.878016  Sat   \n",
      "3      4638472273  1755442610  Incoming  2010-12-25  16:02:09.001913  Sat   \n",
      "4      4638472273  2145623768  Incoming  2010-12-25  15:28:35.028554  Sat   \n",
      "5      4638472273  2946222380  Incoming  2010-12-25  11:38:17.275327  Sat   \n",
      "6      4638472273  7841019020    Missed  2010-12-25  10:38:35.924232  Sat   \n",
      "7      1559410755  6092528894    Missed  2010-12-25  15:15:56.502972  Sat   \n",
      "8      1559410755  6092528894  Incoming  2010-12-25  20:15:19.667734  Sat   \n",
      "9      1559410755  8125446700    Missed  2010-12-25  10:01:02.162977  Sat   \n",
      "10     1559410755  5452154622  Incoming  2010-12-25  19:57:00.050868  Sat   \n",
      "11     1559410755  1747156055  Incoming  2010-12-25  10:08:39.978468  Sat   \n",
      "12     1559410755  8484043137  Incoming  2010-12-25  20:57:01.994902  Sat   \n",
      "13     1559410755  4182819078  Incoming  2010-12-25  17:35:08.626059  Sat   \n",
      "14     1559410755  8484043137  Incoming  2010-12-25  09:07:13.394117  Sat   \n",
      "15     1559410755  6448594093    Missed  2010-12-25  15:07:17.355913  Sat   \n",
      "16     1559410755  7137960738  Incoming  2010-12-25  19:18:03.939869  Sat   \n",
      "17     1559410755  6092528894  Incoming  2010-12-25  18:10:29.499063  Sat   \n",
      "18     1559410755  7823046796  Incoming  2010-12-25  20:20:55.897851  Sat   \n",
      "19     1559410755  8484043137  Incoming  2010-12-25  13:59:57.222163  Sat   \n",
      "20     1559410755  1146268309  Incoming  2010-12-25  19:10:22.023712  Sat   \n",
      "21     1559410755  6092528894  Incoming  2010-12-25  18:50:44.661851  Sat   \n",
      "22     1559410755  4182819078  Incoming  2010-12-25  09:08:03.428833  Sat   \n",
      "23     1559410755  4091221367    Missed  2010-12-25  11:04:34.187041  Sat   \n",
      "24     1559410755  8484043137  Incoming  2010-12-25  15:31:12.565107  Sat   \n",
      "25     1559410755   908094484    Missed  2010-12-25  10:33:06.279349  Sat   \n",
      "26     1559410755  8125446700  Incoming  2010-12-25  15:07:22.132763  Sat   \n",
      "27     1559410755   908094484  Incoming  2010-12-25  09:58:24.802820  Sat   \n",
      "28     1559410755  6948482470  Incoming  2010-12-25  15:16:01.409637  Sat   \n",
      "29     1559410755  6448594093    Missed  2010-12-25  14:35:05.402468  Sat   \n",
      "...           ...         ...       ...         ...              ...  ...   \n",
      "53158  2068627935   876725672    Missed  2013-02-26  16:41:49.654046  Tue   \n",
      "53159  2068627935  1281926045  Incoming  2013-02-26  07:54:27.396609  Tue   \n",
      "53160  2068627935  9477125894  Incoming  2013-02-26  18:38:10.758528  Tue   \n",
      "53161  2068627935  3403144227    Missed  2013-02-26  08:47:24.443294  Tue   \n",
      "53162  2068627935  2447643000  Incoming  2013-02-26  18:48:30.906923  Tue   \n",
      "53163  2068627935  3083991963    Missed  2013-02-26  18:09:31.950138  Tue   \n",
      "53164  2068627935  9477125894    Missed  2013-02-26  19:35:43.088890  Tue   \n",
      "53165  2894365987   616374815  Incoming  2013-02-26  07:34:09.466812  Tue   \n",
      "53166  2894365987  9438365642  Incoming  2013-02-26  11:40:03.839954  Tue   \n",
      "53167  2894365987  3922966733  Incoming  2013-02-26  16:54:59.817237  Tue   \n",
      "53168  2894365987  7216979669    Missed  2013-02-26  10:54:48.830800  Tue   \n",
      "53169  2894365987  6939456722  Incoming  2013-02-26  19:43:37.265428  Tue   \n",
      "53170  2894365987  7310853860  Incoming  2013-02-26  09:12:39.891258  Tue   \n",
      "53171  2894365987  3340422162  Incoming  2013-02-26  08:31:21.292908  Tue   \n",
      "53172  2894365987  5070881310  Incoming  2013-02-26  13:01:17.685045  Tue   \n",
      "53173  2894365987  7310853860  Incoming  2013-02-26  08:52:00.798370  Tue   \n",
      "53174  2894365987  6451037309    Missed  2013-02-26  18:27:58.464256  Tue   \n",
      "53175  2894365987  3348173258  Incoming  2013-02-26  16:41:42.335735  Tue   \n",
      "53176  2894365987  6257308280  Incoming  2013-02-26  07:59:55.051151  Tue   \n",
      "53177  2894365987  7003421569  Incoming  2013-02-26  08:19:08.261933  Tue   \n",
      "53178  2894365987  7310853860    Missed  2013-02-26  19:07:09.768742  Tue   \n",
      "53179  2894365987  2551237669  Incoming  2013-02-26  15:54:22.400136  Tue   \n",
      "53180  2894365987   265146067  Incoming  2013-02-26  19:51:03.020138  Tue   \n",
      "53181  2894365987  6451037309    Missed  2013-02-26  07:59:17.832810  Tue   \n",
      "53182  8549533077   172334479  Incoming  2013-02-26  18:44:03.914215  Tue   \n",
      "53183  8549533077   491169353    Missed  2013-02-26  19:11:18.125445  Tue   \n",
      "53184  8549533077  2362231379  Incoming  2013-02-26  18:01:56.075434  Tue   \n",
      "53185  8549533077   186272563  Incoming  2013-02-26  16:08:57.602134  Tue   \n",
      "53186  8549533077  2288700880  Incoming  2013-02-26  08:01:39.721347  Tue   \n",
      "53187  8549533077   491169353  Incoming  2013-02-26  10:47:00.637845  Tue   \n",
      "\n",
      "             Duration                               TowerID   TowerLat  \\\n",
      "0      0:02:41.741499  0db53dd3-eb9c-4344-abc5-c2d74ebc3eec  32.731611   \n",
      "1      0:02:47.108750  aeaf8b43-8034-44fe-833d-31854a75acbf  32.731722   \n",
      "2      0:04:35.356341  fadaa83f-6001-45fd-aa4a-17d6c6b7ec00  32.899944   \n",
      "3      0:02:23.498499  fadaa83f-6001-45fd-aa4a-17d6c6b7ec00  32.899944   \n",
      "4      0:03:54.692497  95d7920d-c3cd-4d20-a568-9a55800dc807  32.899944   \n",
      "5      0:03:06.670355  95c91e8b-6ff1-4893-9df3-b0342636bd25  32.899944   \n",
      "6      0:02:02.855268  fadaa83f-6001-45fd-aa4a-17d6c6b7ec00  32.899944   \n",
      "7      0:11:52.952187  b4319acf-b475-4c3e-a2e0-03b2dd2daf9e  32.696722   \n",
      "8      0:11:52.951080  f958754c-3d55-47c4-8236-50b964a7b997  32.870972   \n",
      "9      0:14:11.046844  07dec2d7-b5d1-410d-8879-ecf7385af719  32.696083   \n",
      "10     0:14:40.319677  f958754c-3d55-47c4-8236-50b964a7b997  32.870972   \n",
      "11     0:12:06.826578  b4319acf-b475-4c3e-a2e0-03b2dd2daf9e  32.696722   \n",
      "12     0:14:10.485012  1cffcc44-1c60-4ca2-9a37-d3862bbe9702  32.870972   \n",
      "13     0:14:14.315459  d4e84085-292b-4fcb-bdc1-9813ca24e696  32.696083   \n",
      "14     0:13:46.403655  b4319acf-b475-4c3e-a2e0-03b2dd2daf9e  32.696722   \n",
      "15     0:10:20.644213  73900a57-7f0f-46e8-a30b-aa84828eee40  32.695556   \n",
      "16     0:10:42.917630  8b54cc68-bb4d-4baf-b824-4cd1ba67bfb0  32.870972   \n",
      "17     0:11:46.267819  e3572de6-38e5-4e79-978d-f42e6da3f4ec  32.870944   \n",
      "18     0:14:10.927430  da558347-0be4-401a-ab65-f19d136e2542  32.870972   \n",
      "19     0:13:05.952562  b4319acf-b475-4c3e-a2e0-03b2dd2daf9e  32.696722   \n",
      "20     0:15:30.281001  245134b4-96ca-455e-a5dc-2b5777c00d62  32.870944   \n",
      "21     0:12:47.949262  3adc057c-4ec8-44b7-bf6b-7b1c4fe9a99a  32.870972   \n",
      "22     0:11:57.944291  5fcc412a-14ac-4ee2-8fb2-86353c7b5750  32.695556   \n",
      "23     0:12:28.672306  4a5bbfd1-8f33-4b5a-8f67-ffb4a3ff4c10  32.696722   \n",
      "24     0:12:38.137818  0b8b52af-9b05-42bf-808c-f840d5aa56a0  32.696083   \n",
      "25     0:14:03.738197  b4319acf-b475-4c3e-a2e0-03b2dd2daf9e  32.696722   \n",
      "26     0:12:10.513156  0a5847f3-01e3-48fa-8774-fea5b715bf99  32.695583   \n",
      "27     0:13:18.939423  07dec2d7-b5d1-410d-8879-ecf7385af719  32.696083   \n",
      "28     0:15:18.623912  2f649bf1-5a42-47c0-b53f-bc6874f97cab  32.695583   \n",
      "29     0:11:16.372185  b4319acf-b475-4c3e-a2e0-03b2dd2daf9e  32.696722   \n",
      "...               ...                                   ...        ...   \n",
      "53158  0:05:12.243484  d532d9c4-51c3-4cad-b51a-ab377700dc1a  32.720833   \n",
      "53159  0:05:41.292082  8cff2e28-e040-43e6-b452-3aef8740f416  32.726556   \n",
      "53160  0:05:17.482141  e6c68941-4ba2-4eb6-92c6-a3fa3f16847e  32.703056   \n",
      "53161  0:05:13.010650  5085f23b-02df-4fd0-8892-d188644151fd  32.720833   \n",
      "53162  0:05:02.072998  69f4f4a1-8055-4c75-ac86-404d4a3f16d0  32.703056   \n",
      "53163  0:05:05.725690  9baa92e7-e990-4e9e-8c0a-4c17cb4ecc7c  32.731611   \n",
      "53164  0:03:43.230325  69f4f4a1-8055-4c75-ac86-404d4a3f16d0  32.703056   \n",
      "53165  0:08:14.310219  f306a05f-620a-4b47-a64f-efdadc0294e4  32.741889   \n",
      "53166  0:07:32.639822  282d497a-034e-4423-b9aa-5f61c05d1d11  32.721944   \n",
      "53167  0:07:04.316371  282d497a-034e-4423-b9aa-5f61c05d1d11  32.721944   \n",
      "53168  0:07:36.640919  282d497a-034e-4423-b9aa-5f61c05d1d11  32.721944   \n",
      "53169  0:09:03.882290  583c5185-f9ad-406b-a986-4e0bff20f10a  32.773611   \n",
      "53170  0:07:48.959510  282d497a-034e-4423-b9aa-5f61c05d1d11  32.721944   \n",
      "53171  0:06:57.034471  282d497a-034e-4423-b9aa-5f61c05d1d11  32.721944   \n",
      "53172  0:08:16.389705  b39eb337-5811-43c3-a3ab-fddbe4f6d728  32.718333   \n",
      "53173  0:07:09.077251  282d497a-034e-4423-b9aa-5f61c05d1d11  32.721944   \n",
      "53174  0:06:42.867424  0e14fe0e-25fe-445d-ad29-c2595a484be9  32.765556   \n",
      "53175  0:06:27.296961  8f8c676c-e676-41eb-b698-26142e84a20b  32.721944   \n",
      "53176  0:07:02.729531  82e3e882-8cf4-4f65-9eaa-3e0dd372a9e5  32.717667   \n",
      "53177  0:09:07.843832  fbb206b6-e592-4257-b88f-e279773e9c24  32.721944   \n",
      "53178  0:06:18.018831  fd8be326-fe13-43c4-b040-c4d0a79f1bc7  32.773611   \n",
      "53179  0:07:00.760324  fbb206b6-e592-4257-b88f-e279773e9c24  32.721944   \n",
      "53180  0:09:15.471258  fd8be326-fe13-43c4-b040-c4d0a79f1bc7  32.773611   \n",
      "53181  0:09:28.461387  33cd3264-5982-4fbb-86d5-071d21918b5c  32.741889   \n",
      "53182  0:04:02.900173  232edf2b-a92a-4bf2-98ab-029d1f7f9dad  32.822583   \n",
      "53183  0:04:05.656331  6c1f0271-70e2-4ea6-bb8b-23b3b0b06117  32.772361   \n",
      "53184  0:01:53.848597  a11a02cf-73c6-479c-8cf1-8fbee7917716  32.786556   \n",
      "53185  0:01:57.577549  06fe2702-1f88-4dfd-90d6-22c2d3227855  32.985083   \n",
      "53186  0:01:39.690498  269b1e26-49c4-4308-8879-8f2d37528c8a  32.985083   \n",
      "53187  0:03:42.595246  269b1e26-49c4-4308-8879-8f2d37528c8a  32.985083   \n",
      "\n",
      "        TowerLon  \n",
      "0     -96.709417  \n",
      "1     -96.709500  \n",
      "2     -96.910389  \n",
      "3     -96.910389  \n",
      "4     -96.910389  \n",
      "5     -96.910389  \n",
      "6     -96.910389  \n",
      "7     -96.934306  \n",
      "8     -96.923556  \n",
      "9     -96.934333  \n",
      "10    -96.923556  \n",
      "11    -96.934306  \n",
      "12    -96.923556  \n",
      "13    -96.934333  \n",
      "14    -96.934306  \n",
      "15    -96.938333  \n",
      "16    -96.923556  \n",
      "17    -96.923528  \n",
      "18    -96.923556  \n",
      "19    -96.934306  \n",
      "20    -96.923528  \n",
      "21    -96.923556  \n",
      "22    -96.938333  \n",
      "23    -96.934306  \n",
      "24    -96.934333  \n",
      "25    -96.934306  \n",
      "26    -96.938222  \n",
      "27    -96.934333  \n",
      "28    -96.938222  \n",
      "29    -96.934306  \n",
      "...          ...  \n",
      "53158 -96.832222  \n",
      "53159 -96.811472  \n",
      "53160 -96.604444  \n",
      "53161 -96.832222  \n",
      "53162 -96.604444  \n",
      "53163 -96.709417  \n",
      "53164 -96.604444  \n",
      "53165 -96.857611  \n",
      "53166 -96.892222  \n",
      "53167 -96.892222  \n",
      "53168 -96.892222  \n",
      "53169 -96.813611  \n",
      "53170 -96.892222  \n",
      "53171 -96.892222  \n",
      "53172 -96.887222  \n",
      "53173 -96.892222  \n",
      "53174 -96.842111  \n",
      "53175 -96.892222  \n",
      "53176 -96.875194  \n",
      "53177 -96.892222  \n",
      "53178 -96.813611  \n",
      "53179 -96.892222  \n",
      "53180 -96.813611  \n",
      "53181 -96.857611  \n",
      "53182 -96.792222  \n",
      "53183 -96.777278  \n",
      "53184 -96.791250  \n",
      "53185 -96.802556  \n",
      "53186 -96.802528  \n",
      "53187 -96.802528  \n",
      "\n",
      "[53188 rows x 10 columns]>\n"
     ]
    },
    {
     "name": "stdout",
     "output_type": "stream",
     "text": [
      "In                     int64\n",
      "Out                    int64\n",
      "Direction             object\n",
      "CallDate      datetime64[ns]\n",
      "CallTime     timedelta64[ns]\n",
      "DOW                   object\n",
      "Duration              object\n",
      "TowerID               object\n",
      "TowerLat             float64\n",
      "TowerLon             float64\n",
      "dtype: object\n"
     ]
    }
   ],
   "source": [
    "df = pd.read_csv('Datasets/CDR.csv')\n",
    "print(df.head)# .. your code here ..\n",
    "\n",
    "df.CallDate = pd.to_datetime(df.CallDate)\n",
    "df.CallTime = pd.to_timedelta(df.CallTime)\n",
    "print(df.dtypes)"
   ]
  },
  {
   "cell_type": "markdown",
   "metadata": {},
   "source": [
    "Create a unique list of the phone number values (people) stored in the `In` column of the dataset, and save them in a regular python list called `unique_numbers`. Manually check through `unique_numbers` to ensure the order the numbers appear is the same order they (uniquely) appear in your dataset:"
   ]
  },
  {
   "cell_type": "code",
   "execution_count": 49,
   "metadata": {},
   "outputs": [
    {
     "name": "stdout",
     "output_type": "stream",
     "text": [
      "[4638472273 1559410755 4931532174 2419930464 1884182865 3688089071\n",
      " 4555003213 2068627935 2894365987 8549533077]\n"
     ]
    }
   ],
   "source": [
    "unique_numbers = df.In.unique()\n",
    "print(unique_numbers)# .. your code here .."
   ]
  },
  {
   "cell_type": "markdown",
   "metadata": {},
   "source": [
    "Using some domain expertise, your intuition should direct you to know that people are likely to behave differently on weekends vs on weekdays:\n",
    "\n",
    "#### On Weekends\n",
    "1. People probably don't go into work\n",
    "1. They probably sleep in late on Saturday\n",
    "1. They probably run a bunch of random errands, since they couldn't during the week\n",
    "1. They should be home, at least during the very late hours, e.g. 1-4 AM\n",
    "\n",
    "#### On Weekdays\n",
    "1. People probably are at work during normal working hours\n",
    "1. They probably are at home in the early morning and during the late night\n",
    "1. They probably spend time commuting between work and home everyday"
   ]
  },
  {
   "cell_type": "code",
   "execution_count": 59,
   "metadata": {},
   "outputs": [
    {
     "name": "stdout",
     "output_type": "stream",
     "text": [
      "Examining person:  8\n"
     ]
    }
   ],
   "source": [
    "print(\"Examining person: \", 8)"
   ]
  },
  {
   "cell_type": "markdown",
   "metadata": {
    "collapsed": true
   },
   "source": [
    "Create a slice called `user1` that filters to only include dataset records where the `In` feature (user phone number) is equal to the first number on your unique list above:"
   ]
  },
  {
   "cell_type": "code",
   "execution_count": 60,
   "metadata": {
    "collapsed": true
   },
   "outputs": [],
   "source": [
    "user1 = df[df.In == unique_numbers[8]]# .. your code here .."
   ]
  },
  {
   "cell_type": "markdown",
   "metadata": {},
   "source": [
    "Alter your slice so that it includes only Weekday (Mon-Fri) values:"
   ]
  },
  {
   "cell_type": "code",
   "execution_count": 61,
   "metadata": {
    "collapsed": true
   },
   "outputs": [],
   "source": [
    "user1 = user1[(user1.DOW == 'Mon') | (user1.DOW == 'Tue') | (user1.DOW == 'Wed') | (user1.DOW == 'Thu') | (user1.DOW == 'Fri')]"
   ]
  },
  {
   "cell_type": "markdown",
   "metadata": {},
   "source": [
    "The idea is that the call was placed before 5pm. From Midnight-730a, the user is probably sleeping and won't call / wake up to take a call. There should be a brief time in the morning during their commute to work, then they'll spend the entire day at work. So the assumption is that most of the time is spent either at work, or in 2nd, at home:"
   ]
  },
  {
   "cell_type": "code",
   "execution_count": 62,
   "metadata": {
    "collapsed": true
   },
   "outputs": [],
   "source": [
    "user1 = user1[(user1.CallTime < \"17:00:00\")]"
   ]
  },
  {
   "cell_type": "markdown",
   "metadata": {},
   "source": [
    "Plot the Cell Towers the user connected to"
   ]
  },
  {
   "cell_type": "code",
   "execution_count": 63,
   "metadata": {},
   "outputs": [
    {
     "data": {
      "text/plain": [
       "<matplotlib.text.Text at 0x26c05dd9550>"
      ]
     },
     "execution_count": 63,
     "metadata": {},
     "output_type": "execute_result"
    }
   ],
   "source": [
    "fig = plt.figure()\n",
    "ax = fig.add_subplot(111)\n",
    "ax.scatter(user1.TowerLon,user1.TowerLat, c='g', marker='o', alpha=0.2)\n",
    "\n",
    "ax.set_title('Weekday Calls before 5PM')"
   ]
  },
  {
   "cell_type": "code",
   "execution_count": 64,
   "metadata": {
    "collapsed": true
   },
   "outputs": [],
   "source": [
    "def doKMeans(data, num_clusters=0):\n",
    "    # TODO: Be sure to only feed in Lat and Lon coordinates to the KMeans algo, since none of the other\n",
    "    # data is suitable for your purposes. Since both Lat and Lon are (approximately) on the same scale,\n",
    "    # no feature scaling is required. Print out the centroid locations and add them onto your scatter\n",
    "    # plot. Use a distinguishable marker and color.\n",
    "    #\n",
    "    # Hint: Make sure you fit ONLY the coordinates, and in the CORRECT order (lat first). This is part\n",
    "    # of your domain expertise. Also, *YOU* need to create, initialize (and return) the variable named\n",
    "    # `model` here, which will be a SKLearn K-Means model for this to work:\n",
    "    \n",
    "    # .. your code here ..\n",
    "    df = pd.concat([data.TowerLon, data.TowerLat], axis = 1)\n",
    "    model = KMeans(n_clusters = num_clusters)\n",
    "    labels = model.fit_predict(df)\n",
    "    centroids = model.cluster_centers_\n",
    "    ax.scatter(x = centroids[:, 0], y = centroids[:, 1], c = 'r', marker = 'x', s = 100)\n",
    "    \n",
    "    return model"
   ]
  },
  {
   "cell_type": "markdown",
   "metadata": {},
   "source": [
    "Let's tun K-Means with `K=3` or `K=4`. There really should only be a two areas of concentration. If you notice multiple areas that are \"hot\" (multiple areas the user spends a lot of time at that are FAR apart from one another), then increase K=5, with the goal being that all centroids except two will sweep up the annoying outliers and not-home, not-work travel occasions. the other two will zero in on the user's approximate home location and work locations. Or rather the location of the cell tower closest to them....."
   ]
  },
  {
   "cell_type": "code",
   "execution_count": 65,
   "metadata": {},
   "outputs": [],
   "source": [
    "model = doKMeans(user1, 4)"
   ]
  },
  {
   "cell_type": "markdown",
   "metadata": {},
   "source": [
    "Print out the mean `CallTime` value for the samples belonging to the cluster with the LEAST samples attached to it. If our logic is correct, the cluster with the MOST samples will be work. The cluster with the 2nd most samples will be home. And the `K=3` cluster with the least samples should be somewhere in between the two. What time, on average, is the user in between home and work, between the midnight and 5pm?"
   ]
  },
  {
   "cell_type": "code",
   "execution_count": 66,
   "metadata": {},
   "outputs": [
    {
     "name": "stdout",
     "output_type": "stream",
     "text": [
      "\n",
      "  Cluster With Fewest Samples:  3\n",
      "    Its Waypoint Time:  0 days 07:50:14.382905\n"
     ]
    }
   ],
   "source": [
    "midWayClusterIndices = clusterWithFewestSamples(model)\n",
    "midWaySamples = user1[midWayClusterIndices]\n",
    "print(\"    Its Waypoint Time: \", midWaySamples.CallTime.mean())"
   ]
  },
  {
   "cell_type": "markdown",
   "metadata": {},
   "source": [
    "Let's visualize the results! First draw the X's for the clusters:"
   ]
  },
  {
   "cell_type": "code",
   "execution_count": 67,
   "metadata": {},
   "outputs": [
    {
     "data": {
      "image/png": "[encoded data removed]",
      "text/plain": [
       "<matplotlib.figure.Figure at 0x26c07b9d198>"
      ]
     },
     "metadata": {},
     "output_type": "display_data"
    }
   ],
   "source": [
    "ax.scatter(model.cluster_centers_[:,1], model.cluster_centers_[:,0], s=169, c='r', marker='x', alpha=0.8, linewidths=2)\n",
    "ax.set_title('Weekday Calls Centroids')\n",
    "plt.show()"
   ]
  },
  {
   "cell_type": "code",
   "execution_count": null,
   "metadata": {
    "collapsed": true
   },
   "outputs": [],
   "source": []
  },
  {
   "cell_type": "code",
   "execution_count": null,
   "metadata": {
    "collapsed": true
   },
   "outputs": [],
   "source": []
  }
 ],
 "metadata": {
  "anaconda-cloud": {},
  "kernelspec": {
   "display_name": "Python 3",
   "language": "python",
   "name": "python3"
  },
  "language_info": {
   "codemirror_mode": {
    "name": "ipython",
    "version": 3
   },
   "file_extension": ".py",
   "mimetype": "text/x-python",
   "name": "python",
   "nbconvert_exporter": "python",
   "pygments_lexer": "ipython3",
   "version": "3.6.1"
  },
  "toc": {
   "colors": {
    "hover_highlight": "#DAA520",
    "running_highlight": "#FF0000",
    "selected_highlight": "#FFD700"
   },
   "moveMenuLeft": true,
   "nav_menu": {
    "height": "58px",
    "width": "252px"
   },
   "navigate_menu": true,
   "number_sections": true,
   "sideBar": true,
   "threshold": 4,
   "toc_cell": false,
   "toc_section_display": "block",
   "toc_window_display": false,
   "widenNotebook": false
  }
 },
 "nbformat": 4,
 "nbformat_minor": 2
}
