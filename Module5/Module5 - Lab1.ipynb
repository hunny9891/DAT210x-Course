{
 "cells": [
  {
   "cell_type": "markdown",
   "metadata": {},
   "source": [
    "# DAT210x - Programming with Python for DS"
   ]
  },
  {
   "cell_type": "markdown",
   "metadata": {},
   "source": [
    "## Module5- Lab1"
   ]
  },
  {
   "cell_type": "markdown",
   "metadata": {
    "collapsed": true
   },
   "source": [
    "Start by importing whatever you need to import in order to make this lab work:"
   ]
  },
  {
   "cell_type": "code",
   "execution_count": 12,
   "metadata": {},
   "outputs": [],
   "source": [
    "import pandas as pd\n",
    "from sklearn.cluster import KMeans# .. your code here ..\n",
    "\n",
    "import matplotlib.pyplot as plt\n",
    "import matplotlib"
   ]
  },
  {
   "cell_type": "markdown",
   "metadata": {
    "collapsed": true
   },
   "source": [
    "### How to Get The Dataset"
   ]
  },
  {
   "cell_type": "markdown",
   "metadata": {
    "collapsed": true
   },
   "source": [
    "1. Open up the City of Chicago's [Open Data | Crimes](https://data.cityofchicago.org/Public-Safety/Crimes-2001-to-present/ijzp-q8t2) page.\n",
    "1. In the `Primary Type` column, click on the `Menu` button next to the info button, and select `Filter This Column`. It might take a second for the filter option to show up, since it has to load the entire list first.\n",
    "1. Scroll down to `GAMBLING`\n",
    "1. Click the light blue `Export` button next to the `Filter` button, and select `Download As CSV`"
   ]
  },
  {
   "cell_type": "markdown",
   "metadata": {},
   "source": [
    "Now that you have th dataset stored as a CSV, load it up being careful to double check headers, as per usual:"
   ]
  },
  {
   "cell_type": "code",
   "execution_count": 13,
   "metadata": {},
   "outputs": [
    {
     "name": "stdout",
     "output_type": "stream",
     "text": [
      "             ID Case Number                    Date  \\\n",
      "0       4647776    HM172874  02/09/2006 10:29:07 PM   \n",
      "1       4649196    HM157167  02/01/2006 12:30:27 PM   \n",
      "2       4649661    HM159623  02/02/2006 07:02:12 PM   \n",
      "3       4650448    HM158020  02/01/2006 08:13:00 PM   \n",
      "4       4650940    HM156984  02/01/2006 10:10:00 AM   \n",
      "5       4651151    HM161364  02/03/2006 04:40:00 PM   \n",
      "6       4656683    HM161437  02/03/2006 04:30:00 PM   \n",
      "7       4656759    HM161911  02/03/2006 08:00:00 PM   \n",
      "8       4657274    HM159750  02/02/2006 07:30:00 PM   \n",
      "9       4657315    HM159804  02/02/2006 06:50:00 PM   \n",
      "10      4660220    HM259820  03/29/2006 03:35:00 PM   \n",
      "11      4662776    HM168656  02/07/2006 05:20:00 PM   \n",
      "12      4663539    HM166553  02/06/2006 03:18:40 PM   \n",
      "13      4663794    HM263708  03/31/2006 01:00:00 PM   \n",
      "14      4667660    HM172239  02/09/2006 03:45:24 PM   \n",
      "15      4668207    HM146972  01/26/2006 10:05:00 PM   \n",
      "16      4669202    HM168718  02/07/2006 05:50:00 PM   \n",
      "17      4669446    HM170157  02/08/2006 02:15:00 PM   \n",
      "18      4669852    HM174694  02/10/2006 08:40:00 PM   \n",
      "19      4669874    HM175392  02/11/2006 07:30:00 AM   \n",
      "20      4669934    HM180514  02/14/2006 11:25:00 AM   \n",
      "21      4670791    HL780947  12/09/2005 08:55:00 PM   \n",
      "22      4671669    HM184475  02/16/2006 12:51:59 PM   \n",
      "23      4786596    HL655523  10/05/2005 05:32:26 PM   \n",
      "24      4786593    HL645291  09/30/2005 05:57:52 PM   \n",
      "25      4675582    HM199572  02/24/2006 09:10:00 PM   \n",
      "26      4684365    HM243673  03/20/2006 09:38:00 PM   \n",
      "27      4685491    HM199419  02/24/2006 08:57:58 PM   \n",
      "28      4685568    HM214684  03/05/2006 11:05:00 AM   \n",
      "29      4686417    HM220309  03/08/2006 01:40:00 PM   \n",
      "...         ...         ...                     ...   \n",
      "14153  11051986    JA388197  08/12/2017 01:15:00 PM   \n",
      "14154  11052253    JA388595  08/12/2017 06:47:00 PM   \n",
      "14155  11053827    JA390473  08/14/2017 11:10:00 AM   \n",
      "14156  11055846    JA392813  08/15/2017 09:29:00 PM   \n",
      "14157  11055881    JA392819  08/15/2017 09:43:00 PM   \n",
      "14158  11059348    JA396884  08/18/2017 06:57:00 PM   \n",
      "14159  11059367    JA396909  08/18/2017 07:27:00 PM   \n",
      "14160  11060180    JA397819  08/19/2017 02:10:00 PM   \n",
      "14161  11060990    JA398886  08/20/2017 11:00:00 AM   \n",
      "14162  11061029    JA398952  08/20/2017 12:00:00 PM   \n",
      "14163  11063848    JA402175  08/22/2017 06:06:00 PM   \n",
      "14164  11064075    JA402425  08/23/2017 12:13:00 AM   \n",
      "14165  11065670    JA404221  08/24/2017 11:23:00 AM   \n",
      "14166  11067432    JA406124  08/24/2017 08:00:00 PM   \n",
      "14167  11067305    JA406127  08/25/2017 05:38:00 PM   \n",
      "14168  11067320    JA406197  08/25/2017 06:32:00 PM   \n",
      "14169  11068255    JA407420  08/26/2017 07:06:00 PM   \n",
      "14170  11068830    JA408108  08/27/2017 10:55:00 AM   \n",
      "14171  11071003    JA410595  08/29/2017 12:25:00 PM   \n",
      "14172  11071346    JA411086  08/29/2017 06:25:00 PM   \n",
      "14173  11071474    JA411319  08/29/2017 08:22:00 PM   \n",
      "14174  11072485    JA412574  08/30/2017 07:38:00 PM   \n",
      "14175  11075254    JA416030  09/02/2017 01:02:00 PM   \n",
      "14176  11077061    JA418467  09/04/2017 02:14:00 PM   \n",
      "14177  11077471    JA419035  09/05/2017 12:16:00 AM   \n",
      "14178  11078310    JA420035  09/05/2017 05:10:00 PM   \n",
      "14179  11079153    JA421117  09/06/2017 02:30:00 PM   \n",
      "14180  11080308    JA422437  09/07/2017 03:40:00 PM   \n",
      "14181  11081453    JA423679  09/08/2017 03:11:00 PM   \n",
      "14182  11081603    JA423862  09/08/2017 05:24:00 PM   \n",
      "\n",
      "                                     Block  IUCR Primary Type  \\\n",
      "0                       075XX S COLFAX AVE  1661     GAMBLING   \n",
      "1                     038XX W FERDINAND ST  1661     GAMBLING   \n",
      "2                      050XX W SUPERIOR ST  1661     GAMBLING   \n",
      "3                  056XX W WASHINGTON BLVD  1661     GAMBLING   \n",
      "4                          015XX W 72ND ST  1661     GAMBLING   \n",
      "5                      001XX N LATROBE AVE  1661     GAMBLING   \n",
      "6                     002XX W ALEXANDER ST  1651     GAMBLING   \n",
      "7                    044XX N MILWAUKEE AVE  1680     GAMBLING   \n",
      "8                       084XX S PULASKI RD  1680     GAMBLING   \n",
      "9                       049XX W FOSTER AVE  1670     GAMBLING   \n",
      "10                    016XX N LECLAIRE AVE  1661     GAMBLING   \n",
      "11                         002XX E 61ST ST  1630     GAMBLING   \n",
      "12                   095XX S PRINCETON AVE  1661     GAMBLING   \n",
      "13                       059XX W NORTH AVE  1661     GAMBLING   \n",
      "14                     119XX S INDIANA AVE  1661     GAMBLING   \n",
      "15                     034XX W BELMONT AVE  1670     GAMBLING   \n",
      "16                    050XX W ARMITAGE AVE  1670     GAMBLING   \n",
      "17                         004XX E 63RD ST  1626     GAMBLING   \n",
      "18                  068XX W IRVING PARK RD  1670     GAMBLING   \n",
      "19     061XX S DR MARTIN LUTHER KING JR DR  1626     GAMBLING   \n",
      "20                   023XX S WENTWORTH AVE  1670     GAMBLING   \n",
      "21                    031XX W LAWRENCE AVE  1670     GAMBLING   \n",
      "22                    103XX S ELIZABETH ST  1661     GAMBLING   \n",
      "23                         003XX E 29TH ST  1661     GAMBLING   \n",
      "24                         003XX E 29TH ST  1661     GAMBLING   \n",
      "25                    031XX W LAWRENCE AVE  1670     GAMBLING   \n",
      "26                         001XX E 70TH ST  1661     GAMBLING   \n",
      "27                       054XX S BISHOP ST  1611     GAMBLING   \n",
      "28                 051XX W WASHINGTON BLVD  1661     GAMBLING   \n",
      "29                062XX S STONY ISLAND AVE  1661     GAMBLING   \n",
      "...                                    ...   ...          ...   \n",
      "14153                   015XX S KEELER AVE  1661     GAMBLING   \n",
      "14154                      024XX W 56TH ST  1661     GAMBLING   \n",
      "14155                   033XX W GLADYS AVE  1661     GAMBLING   \n",
      "14156                  009XX N HARDING AVE  1661     GAMBLING   \n",
      "14157                 067XX S EAST END AVE  1661     GAMBLING   \n",
      "14158                  070XX S SANGAMON ST  1661     GAMBLING   \n",
      "14159                  038XX W FLOURNOY ST  1661     GAMBLING   \n",
      "14160                      035XX W 13TH PL  1661     GAMBLING   \n",
      "14161                   033XX W GLADYS AVE  1661     GAMBLING   \n",
      "14162                 072XX S PHILLIPS AVE  1661     GAMBLING   \n",
      "14163               013XX S CHRISTIANA AVE  1661     GAMBLING   \n",
      "14164                 039XX W VAN BUREN ST  1661     GAMBLING   \n",
      "14165                  075XX S STEWART AVE  1661     GAMBLING   \n",
      "14166                  037XX N KIMBALL AVE  1670     GAMBLING   \n",
      "14167                   080XX S JUSTINE ST  1661     GAMBLING   \n",
      "14168                071XX S VINCENNES AVE  1661     GAMBLING   \n",
      "14169                   033XX W GLADYS AVE  1661     GAMBLING   \n",
      "14170               010XX N MONTICELLO AVE  1680     GAMBLING   \n",
      "14171                    011XX S MASON AVE  1661     GAMBLING   \n",
      "14172                   013XX S KARLOV AVE  1661     GAMBLING   \n",
      "14173                  039XX W FLOURNOY ST  1661     GAMBLING   \n",
      "14174                      013XX W 73RD PL  1661     GAMBLING   \n",
      "14175                 052XX W FERDINAND ST  1661     GAMBLING   \n",
      "14176                     0000X W 110TH PL  1661     GAMBLING   \n",
      "14177                 039XX W VAN BUREN ST  1661     GAMBLING   \n",
      "14178                  056XX S WOLCOTT AVE  1661     GAMBLING   \n",
      "14179               010XX N MONTICELLO AVE  1661     GAMBLING   \n",
      "14180                   033XX W GLADYS AVE  1661     GAMBLING   \n",
      "14181                 003XX S TRUMBULL AVE  1661     GAMBLING   \n",
      "14182                 030XX W LEXINGTON ST  1661     GAMBLING   \n",
      "\n",
      "                 Description           Location Description  Arrest  Domestic  \\\n",
      "0                  GAME/DICE                       SIDEWALK    True     False   \n",
      "1                  GAME/DICE                       SIDEWALK    True     False   \n",
      "2                  GAME/DICE                       SIDEWALK    True     False   \n",
      "3                  GAME/DICE        RESIDENCE PORCH/HALLWAY    True     False   \n",
      "4                  GAME/DICE                       SIDEWALK    True     False   \n",
      "5                  GAME/DICE                       SIDEWALK    True     False   \n",
      "6                 GAME/CARDS                          OTHER    True     False   \n",
      "7                      OTHER                          ALLEY    True     False   \n",
      "8                      OTHER                          OTHER    True     False   \n",
      "9      GAME/AMUSEMENT DEVICE            TAVERN/LIQUOR STORE    True     False   \n",
      "10                 GAME/DICE                       SIDEWALK    True     False   \n",
      "11           WIREROOM/HORSES                         STREET    True     False   \n",
      "12                 GAME/DICE                          ALLEY    True     False   \n",
      "13                 GAME/DICE                       SIDEWALK    True     False   \n",
      "14                 GAME/DICE                      RESIDENCE    True     False   \n",
      "15     GAME/AMUSEMENT DEVICE                     RESTAURANT    True     False   \n",
      "16     GAME/AMUSEMENT DEVICE                     RESTAURANT    True     False   \n",
      "17       ILLEGAL ILL LOTTERY                         STREET    True     False   \n",
      "18     GAME/AMUSEMENT DEVICE                     RESTAURANT    True     False   \n",
      "19       ILLEGAL ILL LOTTERY                         STREET    True     False   \n",
      "20     GAME/AMUSEMENT DEVICE             SMALL RETAIL STORE    True     False   \n",
      "21     GAME/AMUSEMENT DEVICE            TAVERN/LIQUOR STORE    True     False   \n",
      "22                 GAME/DICE       SCHOOL, PUBLIC, BUILDING    True     False   \n",
      "23                 GAME/DICE                  PARK PROPERTY    True     False   \n",
      "24                 GAME/DICE                  PARK PROPERTY    True     False   \n",
      "25     GAME/AMUSEMENT DEVICE            TAVERN/LIQUOR STORE    True     False   \n",
      "26                 GAME/DICE        RESIDENCE PORCH/HALLWAY    True     False   \n",
      "27         BOOKMAKING/SPORTS                       SIDEWALK    True     False   \n",
      "28                 GAME/DICE        RESIDENCE PORCH/HALLWAY    True     False   \n",
      "29                 GAME/DICE       SCHOOL, PUBLIC, BUILDING    True     False   \n",
      "...                      ...                            ...     ...       ...   \n",
      "14153              GAME/DICE                       SIDEWALK    True     False   \n",
      "14154              GAME/DICE                  PARK PROPERTY    True     False   \n",
      "14155              GAME/DICE                       SIDEWALK    True     False   \n",
      "14156              GAME/DICE                       SIDEWALK    True     False   \n",
      "14157              GAME/DICE  RESIDENTIAL YARD (FRONT/BACK)    True     False   \n",
      "14158              GAME/DICE                       SIDEWALK    True     False   \n",
      "14159              GAME/DICE                       SIDEWALK    True     False   \n",
      "14160              GAME/DICE                       SIDEWALK    True     False   \n",
      "14161              GAME/DICE                       SIDEWALK    True     False   \n",
      "14162              GAME/DICE  RESIDENTIAL YARD (FRONT/BACK)    True     False   \n",
      "14163              GAME/DICE                       SIDEWALK    True     False   \n",
      "14164              GAME/DICE                       SIDEWALK    True     False   \n",
      "14165              GAME/DICE                          OTHER    True     False   \n",
      "14166  GAME/AMUSEMENT DEVICE                 CLEANING STORE    True     False   \n",
      "14167              GAME/DICE  RESIDENTIAL YARD (FRONT/BACK)    True     False   \n",
      "14168              GAME/DICE                       SIDEWALK    True     False   \n",
      "14169              GAME/DICE                       SIDEWALK    True     False   \n",
      "14170                  OTHER                       SIDEWALK    True     False   \n",
      "14171              GAME/DICE                       SIDEWALK    True     False   \n",
      "14172              GAME/DICE                       SIDEWALK    True     False   \n",
      "14173              GAME/DICE                       SIDEWALK    True     False   \n",
      "14174              GAME/DICE                       SIDEWALK    True     False   \n",
      "14175              GAME/DICE                       SIDEWALK    True     False   \n",
      "14176              GAME/DICE                       SIDEWALK    True     False   \n",
      "14177              GAME/DICE                       SIDEWALK    True     False   \n",
      "14178              GAME/DICE                       SIDEWALK    True     False   \n",
      "14179              GAME/DICE                       SIDEWALK    True     False   \n",
      "14180              GAME/DICE                       SIDEWALK    True     False   \n",
      "14181              GAME/DICE  RESIDENTIAL YARD (FRONT/BACK)    True     False   \n",
      "14182              GAME/DICE                       SIDEWALK    True     False   \n",
      "\n",
      "                   ...                Ward  Community Area  FBI Code  \\\n",
      "0                  ...                 7.0            43.0        19   \n",
      "1                  ...                27.0            23.0        19   \n",
      "2                  ...                28.0            25.0        19   \n",
      "3                  ...                29.0            25.0        19   \n",
      "4                  ...                17.0            67.0        19   \n",
      "5                  ...                28.0            25.0        19   \n",
      "6                  ...                25.0            34.0        19   \n",
      "7                  ...                45.0            15.0        19   \n",
      "8                  ...                18.0            70.0        19   \n",
      "9                  ...                45.0            12.0        19   \n",
      "10                 ...                37.0            25.0        19   \n",
      "11                 ...                20.0            40.0        19   \n",
      "12                 ...                21.0            49.0        19   \n",
      "13                 ...                29.0            25.0        19   \n",
      "14                 ...                 9.0            53.0        19   \n",
      "15                 ...                35.0            21.0        19   \n",
      "16                 ...                31.0            19.0        19   \n",
      "17                 ...                20.0            42.0        19   \n",
      "18                 ...                38.0            17.0        19   \n",
      "19                 ...                20.0            40.0        19   \n",
      "20                 ...                25.0            34.0        19   \n",
      "21                 ...                33.0            14.0        19   \n",
      "22                 ...                21.0            73.0        19   \n",
      "23                 ...                 2.0            35.0        19   \n",
      "24                 ...                 4.0            35.0        19   \n",
      "25                 ...                33.0            14.0        19   \n",
      "26                 ...                 6.0            69.0        19   \n",
      "27                 ...                16.0            61.0        19   \n",
      "28                 ...                28.0            25.0        19   \n",
      "29                 ...                 5.0            42.0        19   \n",
      "...                ...                 ...             ...       ...   \n",
      "14153              ...                24.0            29.0        19   \n",
      "14154              ...                16.0            63.0        19   \n",
      "14155              ...                28.0            27.0        19   \n",
      "14156              ...                27.0            23.0        19   \n",
      "14157              ...                 5.0            43.0        19   \n",
      "14158              ...                17.0            68.0        19   \n",
      "14159              ...                24.0            26.0        19   \n",
      "14160              ...                24.0            29.0        19   \n",
      "14161              ...                28.0            27.0        19   \n",
      "14162              ...                 7.0            43.0        19   \n",
      "14163              ...                24.0            29.0        19   \n",
      "14164              ...                24.0            26.0        19   \n",
      "14165              ...                17.0            69.0        19   \n",
      "14166              ...                35.0            16.0        19   \n",
      "14167              ...                21.0            71.0        19   \n",
      "14168              ...                 6.0            69.0        19   \n",
      "14169              ...                28.0            27.0        19   \n",
      "14170              ...                27.0            23.0        19   \n",
      "14171              ...                29.0            25.0        19   \n",
      "14172              ...                24.0            29.0        19   \n",
      "14173              ...                24.0            26.0        19   \n",
      "14174              ...                17.0            67.0        19   \n",
      "14175              ...                28.0            25.0        19   \n",
      "14176              ...                34.0            49.0        19   \n",
      "14177              ...                24.0            26.0        19   \n",
      "14178              ...                15.0            67.0        19   \n",
      "14179              ...                27.0            23.0        19   \n",
      "14180              ...                28.0            27.0        19   \n",
      "14181              ...                28.0            27.0        19   \n",
      "14182              ...                28.0            27.0        19   \n",
      "\n",
      "       X Coordinate  Y Coordinate  Year              Updated On   Latitude  \\\n",
      "0         1194833.0     1855572.0  2006  04/15/2016 08:55:02 AM  41.758607   \n",
      "1         1150871.0     1903067.0  2006  04/15/2016 08:55:02 AM  41.889909   \n",
      "2         1142605.0     1904502.0  2006  04/15/2016 08:55:02 AM  41.894005   \n",
      "3         1138430.0     1900175.0  2006  04/15/2016 08:55:02 AM  41.882208   \n",
      "4         1167231.0     1856980.0  2006  04/15/2016 08:55:02 AM  41.763106   \n",
      "5         1141360.0     1900477.0  2006  04/15/2016 08:55:02 AM  41.882983   \n",
      "6         1174969.0     1889230.0  2006  04/15/2016 08:55:02 AM  41.851434   \n",
      "7         1141580.0     1928940.0  2006  04/15/2016 08:55:02 AM  41.961084   \n",
      "8         1151210.0     1848126.0  2006  04/15/2016 08:55:02 AM  41.739137   \n",
      "9         1142277.0     1934118.0  2006  04/15/2016 08:55:02 AM  41.975280   \n",
      "10        1142298.0     1910593.0  2006  04/15/2016 08:55:02 AM  41.910725   \n",
      "11        1178800.0     1864618.0  2006  04/15/2016 08:55:02 AM  41.783810   \n",
      "12        1175958.0     1841741.0  2006  04/15/2016 08:55:02 AM  41.721097   \n",
      "13        1136288.0     1910021.0  2006  04/15/2016 08:55:02 AM  41.909265   \n",
      "14        1179716.0     1826020.0  2006  04/15/2016 08:55:02 AM  41.677871   \n",
      "15        1153042.0     1921070.0  2006  04/15/2016 08:55:02 AM  41.939268   \n",
      "16        1142305.0     1912825.0  2006  04/15/2016 08:55:02 AM  41.916850   \n",
      "17        1180239.0     1863334.0  2006  04/15/2016 08:55:02 AM  41.780254   \n",
      "18        1129855.0     1925824.0  2006  04/15/2016 08:55:02 AM  41.952743   \n",
      "19        1179972.0     1864490.0  2006  04/15/2016 08:55:02 AM  41.783432   \n",
      "20        1175345.0     1888637.0  2006  04/15/2016 08:55:02 AM  41.849798   \n",
      "21        1154644.0     1931723.0  2005  04/15/2016 08:55:02 AM  41.968469   \n",
      "22        1169846.0     1836216.0  2006  04/15/2016 08:55:02 AM  41.706070   \n",
      "23              NaN           NaN  2005  08/17/2015 03:03:40 PM        NaN   \n",
      "24              NaN           NaN  2005  08/17/2015 03:03:40 PM        NaN   \n",
      "25        1154644.0     1931723.0  2006  04/15/2016 08:55:02 AM  41.968469   \n",
      "26        1178591.0     1858641.0  2006  04/15/2016 08:55:02 AM  41.767413   \n",
      "27        1167590.0     1868722.0  2006  04/15/2016 08:55:02 AM  41.795320   \n",
      "28        1141945.0     1900001.0  2006  04/15/2016 08:55:02 AM  41.881666   \n",
      "29        1187940.0     1864073.0  2006  04/15/2016 08:55:02 AM  41.782102   \n",
      "...             ...           ...   ...                     ...        ...   \n",
      "14153     1148635.0     1892173.0  2017  08/19/2017 03:50:07 PM  41.860058   \n",
      "14154     1161095.0     1867469.0  2017  08/19/2017 03:50:07 PM  41.792018   \n",
      "14155     1154009.0     1898095.0  2017  08/21/2017 03:52:56 PM  41.876204   \n",
      "14156     1149883.0     1906035.0  2017  08/22/2017 03:55:50 PM  41.898073   \n",
      "14157     1188697.0     1860548.0  2017  08/22/2017 03:55:50 PM  41.772411   \n",
      "14158     1171190.0     1858158.0  2017  08/25/2017 03:49:58 PM  41.766253   \n",
      "14159     1150902.0     1896755.0  2017  08/25/2017 03:49:58 PM  41.872588   \n",
      "14160     1152965.0     1893676.0  2017  08/26/2017 03:52:47 PM  41.864098   \n",
      "14161     1153985.0     1898094.0  2017  08/27/2017 03:48:51 PM  41.876201   \n",
      "14162     1193739.0     1857443.0  2017  08/27/2017 03:48:51 PM  41.763768   \n",
      "14163     1154244.0     1893642.0  2017  08/29/2017 03:56:39 PM  41.863979   \n",
      "14164     1150273.0     1897736.0  2017  08/30/2017 03:57:57 PM  41.875292   \n",
      "14165     1174929.0     1855036.0  2017  08/31/2017 03:54:26 PM  41.757603   \n",
      "14166     1153060.0     1924542.0  2017  08/31/2017 03:54:26 PM  41.948795   \n",
      "14167     1167401.0     1851464.0  2017  09/01/2017 03:54:24 PM  41.747966   \n",
      "14168     1176581.0     1857588.0  2017  09/01/2017 03:54:24 PM  41.764569   \n",
      "14169     1153985.0     1898094.0  2017  09/02/2017 03:51:10 PM  41.876201   \n",
      "14170     1151852.0     1906785.0  2017  09/03/2017 03:50:32 PM  41.900093   \n",
      "14171     1136892.0     1894418.0  2017  09/05/2017 03:53:25 PM  41.866437   \n",
      "14172     1149264.0     1893519.0  2017  09/05/2017 03:53:25 PM  41.863740   \n",
      "14173     1150250.0     1896739.0  2017  09/05/2017 03:53:25 PM  41.872557   \n",
      "14174     1168551.0     1856023.0  2017  09/06/2017 03:50:49 PM  41.760451   \n",
      "14175     1141363.0     1902646.0  2017  09/09/2017 03:47:24 PM  41.888935   \n",
      "14176     1177937.0     1831695.0  2017  09/11/2017 03:52:17 PM  41.693485   \n",
      "14177     1150259.0     1897735.0  2017  09/12/2017 03:54:26 PM  41.875290   \n",
      "14178     1164649.0     1867315.0  2017  09/12/2017 03:54:26 PM  41.791521   \n",
      "14179     1151852.0     1906785.0  2017  09/13/2017 03:52:28 PM  41.900093   \n",
      "14180     1153985.0     1898094.0  2017  09/14/2017 03:49:54 PM  41.876201   \n",
      "14181     1153478.0     1898116.0  2017  09/15/2017 03:51:54 PM  41.876272   \n",
      "14182     1156194.0     1896545.0  2017  09/15/2017 03:51:54 PM  41.871906   \n",
      "\n",
      "       Longitude                       Location  \n",
      "0     -87.561511  (41.758607126, -87.561510616)  \n",
      "1     -87.721389  (41.889909247, -87.721389051)  \n",
      "2     -87.751710   (41.89400481, -87.751710086)  \n",
      "3     -87.767149  (41.882207608, -87.767148598)  \n",
      "4     -87.662629   (41.763105901, -87.66262925)  \n",
      "5     -87.756382  (41.882982785, -87.756382024)  \n",
      "6     -87.633305  (41.851433926, -87.633305383)  \n",
      "7     -87.754869  (41.961084206, -87.754869118)  \n",
      "8     -87.721580  (41.739136801, -87.721580463)  \n",
      "9     -87.752177  (41.975280123, -87.752177413)  \n",
      "10    -87.752686  (41.910724913, -87.752686197)  \n",
      "11    -87.619995   (41.783810008, -87.61999476)  \n",
      "12    -87.631099  (41.721096996, -87.631099091)  \n",
      "13    -87.774779  (41.909264799, -87.774778781)  \n",
      "14    -87.617813  (41.677871461, -87.617812794)  \n",
      "15    -87.712938  (41.939268304, -87.712937877)  \n",
      "16    -87.752605  (41.916849633, -87.752604962)  \n",
      "17    -87.614758   (41.780253707, -87.61475825)  \n",
      "18    -87.798049  (41.952742671, -87.798048765)  \n",
      "19    -87.615702  (41.783432002, -87.615701737)  \n",
      "20    -87.631943   (41.84979827, -87.631943164)  \n",
      "21    -87.706764  (41.968468875, -87.706763807)  \n",
      "22    -87.653646  (41.706070186, -87.653645803)  \n",
      "23           NaN                            NaN  \n",
      "24           NaN                            NaN  \n",
      "25    -87.706764  (41.968468875, -87.706763807)  \n",
      "26    -87.620943  (41.767413258, -87.620942554)  \n",
      "27    -87.660977  (41.795319727, -87.660976952)  \n",
      "28    -87.754246   (41.88166577, -87.754245643)  \n",
      "29    -87.586502   (41.78210152, -87.586502002)  \n",
      "...          ...                            ...  \n",
      "14153 -87.729882  (41.860058315, -87.729881983)  \n",
      "14154 -87.684829  (41.792018262, -87.684829002)  \n",
      "14155 -87.709997  (41.876203585, -87.709997485)  \n",
      "14156 -87.724940  (41.898073026, -87.724940164)  \n",
      "14157 -87.583839  (41.772410563, -87.583839318)  \n",
      "14158 -87.648084  (41.766252855, -87.648084406)  \n",
      "14159 -87.721440  (41.872587828, -87.721440478)  \n",
      "14160 -87.713948  (41.864098105, -87.713947792)  \n",
      "14161 -87.710086  (41.876201319, -87.710085632)  \n",
      "14162 -87.565459  (41.763768156, -87.565458756)  \n",
      "14163 -87.709254  (41.863979388, -87.709253509)  \n",
      "14164 -87.723724  (41.875292084, -87.723724259)  \n",
      "14165 -87.634473   (41.75760316, -87.634472636)  \n",
      "14166 -87.712779   (41.948795371, -87.71277934)  \n",
      "14167 -87.662164  (41.747965603, -87.662163891)  \n",
      "14168 -87.628342  (41.764569155, -87.628341654)  \n",
      "14169 -87.710086  (41.876201319, -87.710085632)  \n",
      "14170 -87.717688  (41.900092556, -87.717688385)  \n",
      "14171 -87.772934   (41.866437316, -87.77293425)  \n",
      "14172 -87.727538  (41.863739747, -87.727538208)  \n",
      "14173 -87.723835    (41.872556651, -87.7238347)  \n",
      "14174 -87.657819   (41.760451422, -87.65781875)  \n",
      "14175 -87.756317  (41.888934734, -87.756317452)  \n",
      "14176 -87.624154    (41.693484859, -87.6241535)  \n",
      "14177 -87.723776  (41.875289613, -87.723775688)  \n",
      "14178 -87.671801   (41.79152136, -87.671801382)  \n",
      "14179 -87.717688  (41.900092556, -87.717688385)  \n",
      "14180 -87.710086  (41.876201319, -87.710085632)  \n",
      "14181 -87.711947  (41.876271777, -87.711946588)  \n",
      "14182 -87.702017  (41.871906402, -87.702016738)  \n",
      "\n",
      "[14183 rows x 22 columns]\n"
     ]
    }
   ],
   "source": [
    "df = pd.read_csv('Datasets/Crimes_-_2001_to_present.csv')# .. your code here ..\n",
    "print(df)"
   ]
  },
  {
   "cell_type": "markdown",
   "metadata": {},
   "source": [
    "Get rid of any _rows_ that have nans in them:"
   ]
  },
  {
   "cell_type": "code",
   "execution_count": 14,
   "metadata": {
    "collapsed": true
   },
   "outputs": [],
   "source": [
    "df = df.dropna(axis = 0, how='any')# .. your code here .."
   ]
  },
  {
   "cell_type": "markdown",
   "metadata": {},
   "source": [
    "Display the `dtypes` of your dset:"
   ]
  },
  {
   "cell_type": "code",
   "execution_count": 15,
   "metadata": {},
   "outputs": [
    {
     "name": "stdout",
     "output_type": "stream",
     "text": [
      "ID                        int64\n",
      "Case Number              object\n",
      "Date                     object\n",
      "Block                    object\n",
      "IUCR                      int64\n",
      "Primary Type             object\n",
      "Description              object\n",
      "Location Description     object\n",
      "Arrest                     bool\n",
      "Domestic                   bool\n",
      "Beat                      int64\n",
      "District                  int64\n",
      "Ward                    float64\n",
      "Community Area          float64\n",
      "FBI Code                  int64\n",
      "X Coordinate            float64\n",
      "Y Coordinate            float64\n",
      "Year                      int64\n",
      "Updated On               object\n",
      "Latitude                float64\n",
      "Longitude               float64\n",
      "Location                 object\n",
      "dtype: object\n"
     ]
    }
   ],
   "source": [
    "print(df.dtypes)# .. your code here .."
   ]
  },
  {
   "cell_type": "markdown",
   "metadata": {},
   "source": [
    "Coerce the `Date` feature (which is currently a string object) into real date, and confirm by displaying the `dtypes` again. This might be a slow executing process..."
   ]
  },
  {
   "cell_type": "code",
   "execution_count": 16,
   "metadata": {},
   "outputs": [
    {
     "name": "stdout",
     "output_type": "stream",
     "text": [
      "ID                               int64\n",
      "Case Number                     object\n",
      "Date                    datetime64[ns]\n",
      "Block                           object\n",
      "IUCR                             int64\n",
      "Primary Type                    object\n",
      "Description                     object\n",
      "Location Description            object\n",
      "Arrest                            bool\n",
      "Domestic                          bool\n",
      "Beat                             int64\n",
      "District                         int64\n",
      "Ward                           float64\n",
      "Community Area                 float64\n",
      "FBI Code                         int64\n",
      "X Coordinate                   float64\n",
      "Y Coordinate                   float64\n",
      "Year                             int64\n",
      "Updated On                      object\n",
      "Latitude                       float64\n",
      "Longitude                      float64\n",
      "Location                        object\n",
      "dtype: object\n"
     ]
    }
   ],
   "source": [
    "df.Date = pd.to_datetime(df.Date)# .. your code here ..\n",
    "print(df.dtypes)"
   ]
  },
  {
   "cell_type": "code",
   "execution_count": 19,
   "metadata": {},
   "outputs": [],
   "source": [
    "def doKMeans(df):\n",
    "    # Let's plot your data with a '.' marker, a 0.3 alpha at the Longitude,\n",
    "    # and Latitude locations in your dataset. Longitude = x, Latitude = y\n",
    "    fig = plt.figure()\n",
    "    ax = fig.add_subplot(111)\n",
    "    ax.scatter(df.Longitude, df.Latitude, marker='.', alpha=0.3)\n",
    "\n",
    "    \n",
    "    # TODO: Filter `df` using indexing so it only contains Longitude and Latitude,\n",
    "    # since the remaining columns aren't really applicable for this lab:\n",
    "    #\n",
    "    # .. your code here ..\n",
    "    df = df[['Longitude', 'Latitude']]\n",
    "\n",
    "    # TODO: Use K-Means to try and find seven cluster centers in this df.\n",
    "    # Be sure to name your kmeans model `model` so that the printing works.\n",
    "    #\n",
    "    # .. your code here ..\n",
    "    model = KMeans(n_clusters = 7)\n",
    "    model.fit(df)\n",
    "    \n",
    "    labels = model.predict(df)\n",
    "    \n",
    "\n",
    "    # Now we can print and plot the centroids:\n",
    "    centroids = model.cluster_centers_\n",
    "    print(centroids)\n",
    "    ax.scatter(centroids[:,0], centroids[:,1], marker='x', c='red', alpha=0.5, linewidths=3, s=169)\n",
    "    plt.show()"
   ]
  },
  {
   "cell_type": "code",
   "execution_count": 23,
   "metadata": {},
   "outputs": [
    {
     "name": "stdout",
     "output_type": "stream",
     "text": [
      "[[-87.7568882   41.89340748]\n",
      " [-87.66471728  41.77277855]\n",
      " [-87.63117574  41.6966916 ]\n",
      " [-87.58258032  41.75264147]\n",
      " [-87.68501799  41.98177431]\n",
      " [-87.61950323  41.80346734]\n",
      " [-87.70961882  41.87816009]]\n"
     ]
    },
    {
     "data": {
      "image/png": "[encoded data removed]",
      "text/plain": [
       "<matplotlib.figure.Figure at 0x13cb2743438>"
      ]
     },
     "metadata": {},
     "output_type": "display_data"
    }
   ],
   "source": [
    "# Print & Plot your data\n",
    "doKMeans(df)"
   ]
  },
  {
   "cell_type": "markdown",
   "metadata": {},
   "source": [
    "Filter out the data so that it only contains samples that have a `Date > '2011-01-01'`, using indexing. Then, in a new figure, plot the crime incidents, as well as a new K-Means run's centroids."
   ]
  },
  {
   "cell_type": "code",
   "execution_count": 26,
   "metadata": {},
   "outputs": [],
   "source": [
    "df = df.loc[df['Date'] > '2011-01-01']# .. your code here .."
   ]
  },
  {
   "cell_type": "code",
   "execution_count": 27,
   "metadata": {},
   "outputs": [
    {
     "name": "stdout",
     "output_type": "stream",
     "text": [
      "[[-87.66557719  41.77580563]\n",
      " [-87.7547907   41.8898888 ]\n",
      " [-87.63468759  41.70570384]\n",
      " [-87.57978912  41.75092244]\n",
      " [-87.68692804  41.98387683]\n",
      " [-87.71062829  41.87542889]\n",
      " [-87.62001419  41.79060621]]\n"
     ]
    },
    {
     "data": {
      "image/png": "[encoded data removed]",
      "text/plain": [
       "<matplotlib.figure.Figure at 0x13cb27d8390>"
      ]
     },
     "metadata": {},
     "output_type": "display_data"
    }
   ],
   "source": [
    "# Print & Plot your data\n",
    "doKMeans(df)"
   ]
  },
  {
   "cell_type": "code",
   "execution_count": null,
   "metadata": {
    "collapsed": true
   },
   "outputs": [],
   "source": []
  }
 ],
 "metadata": {
  "anaconda-cloud": {},
  "kernelspec": {
   "display_name": "Python 3",
   "language": "python",
   "name": "python3"
  },
  "language_info": {
   "codemirror_mode": {
    "name": "ipython",
    "version": 3
   },
   "file_extension": ".py",
   "mimetype": "text/x-python",
   "name": "python",
   "nbconvert_exporter": "python",
   "pygments_lexer": "ipython3",
   "version": "3.6.1"
  },
  "toc": {
   "colors": {
    "hover_highlight": "#DAA520",
    "running_highlight": "#FF0000",
    "selected_highlight": "#FFD700"
   },
   "moveMenuLeft": true,
   "nav_menu": {
    "height": "58px",
    "width": "252px"
   },
   "navigate_menu": true,
   "number_sections": true,
   "sideBar": true,
   "threshold": 4,
   "toc_cell": false,
   "toc_section_display": "block",
   "toc_window_display": false,
   "widenNotebook": false
  }
 },
 "nbformat": 4,
 "nbformat_minor": 2
}
